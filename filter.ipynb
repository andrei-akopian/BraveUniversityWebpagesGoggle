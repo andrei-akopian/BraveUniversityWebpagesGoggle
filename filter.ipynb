{
 "cells": [
  {
   "cell_type": "markdown",
   "metadata": {},
   "source": [
    "Contains filtering and generation scripts for the goggle.\n",
    "The naming sense is a bit of a mess.\n",
    "The script perfroms 4 operations\n",
    "1. creates worldwide `domains.txt` from the source dataset\n",
    "2. creates USA only `usa_domains.txt` from the source dataset\n",
    "3. Generates the Worldwide Goggle\n",
    "4. Generates the USA Goggle"
   ]
  },
  {
   "cell_type": "code",
   "execution_count": 1,
   "metadata": {},
   "outputs": [],
   "source": [
    "import json"
   ]
  },
  {
   "cell_type": "code",
   "execution_count": 2,
   "metadata": {},
   "outputs": [],
   "source": [
    "filepath = \"../../Datasets/world_universities_and_domains.json\"\n",
    "with open(filepath,\"r\") as f:\n",
    "    data = json.load(f)"
   ]
  },
  {
   "cell_type": "markdown",
   "metadata": {},
   "source": [
    "### Worldwide"
   ]
  },
  {
   "cell_type": "code",
   "execution_count": null,
   "metadata": {},
   "outputs": [],
   "source": [
    "# filtering\n",
    "worldwide_list = []\n",
    "for uni in data:\n",
    "    domains = uni[\"domains\"]\n",
    "    for d in domains:\n",
    "        worldwide_list.append(d)"
   ]
  },
  {
   "cell_type": "code",
   "execution_count": 17,
   "metadata": {},
   "outputs": [],
   "source": [
    "output_path = \"domains.txt\""
   ]
  },
  {
   "cell_type": "code",
   "execution_count": 7,
   "metadata": {},
   "outputs": [
    {
     "name": "stdout",
     "output_type": "stream",
     "text": [
      "Saved 10310 domains to domains.txt\n"
     ]
    }
   ],
   "source": [
    "# saving raw list\n",
    "with open(output_path,\"w\") as f:\n",
    "    for domain in worldwide_list:\n",
    "        f.write(domain+\"\\n\")\n",
    "print(\"Saved\",len(worldwide_list),\"domains to\",output_path)"
   ]
  },
  {
   "cell_type": "code",
   "execution_count": 18,
   "metadata": {},
   "outputs": [],
   "source": [
    "# (Unused) loads raw worldwide list from the file\n",
    "with open(output_path,\"r\") as f:\n",
    "    worldwide_list = [domain.strip(\"\\n\") for domain in f.readlines()]"
   ]
  },
  {
   "cell_type": "markdown",
   "metadata": {},
   "source": [
    "### USA"
   ]
  },
  {
   "cell_type": "code",
   "execution_count": 13,
   "metadata": {},
   "outputs": [],
   "source": [
    "# filtering\n",
    "usa_list = []\n",
    "for uni in data:\n",
    "    if (uni[\"alpha_two_code\"]==\"US\"):\n",
    "        domains = uni[\"domains\"]\n",
    "        for d in domains:\n",
    "            usa_list.append(d)"
   ]
  },
  {
   "cell_type": "code",
   "execution_count": 21,
   "metadata": {},
   "outputs": [],
   "source": [
    "usa_output_path = \"usa_domains.txt\""
   ]
  },
  {
   "cell_type": "code",
   "execution_count": 14,
   "metadata": {},
   "outputs": [
    {
     "name": "stdout",
     "output_type": "stream",
     "text": [
      "Saved 2354 domains to usa_domains.txt\n"
     ]
    }
   ],
   "source": [
    "# saving raw list\n",
    "with open(usa_output_path,\"w\") as f:\n",
    "    for domain in usa_list:\n",
    "        f.write(domain+\"\\n\")\n",
    "print(\"Saved\",len(usa_list),\"domains to\",usa_output_path)"
   ]
  },
  {
   "cell_type": "code",
   "execution_count": 22,
   "metadata": {},
   "outputs": [],
   "source": [
    "# (Unused) loads raw usa list from the file\n",
    "with open(usa_output_path,\"r\") as f:\n",
    "    usa_list = [domain.strip(\"\\n\") for domain in f.readlines()]"
   ]
  },
  {
   "cell_type": "markdown",
   "metadata": {},
   "source": [
    "### Goggle Generation\n",
    "[Docs](https://github.com/brave/goggles-quickstart/blob/main/getting-started.md#goggles-syntax) and [Quickstart Guide](https://github.com/brave/goggles-quickstart/blob/main/goggles/quickstart.goggle)"
   ]
  },
  {
   "cell_type": "code",
   "execution_count": 31,
   "metadata": {},
   "outputs": [],
   "source": [
    "def generate_goggle(output_name,domain_list,modifier):\n",
    "    header = f\"\"\"! name: University Webpages {modifier}\n",
    "! description: Webpages hosted by Universities and Colleges {modifier}.\n",
    "! homepage: https://github.com/andrei-akopian/BraveUniversityWebpagesGoggle\n",
    "! license: MIT License\n",
    "! public: true\n",
    "! author: AA\n",
    "! avatar: #007050\n",
    "\n",
    "$discard\n",
    "\"\"\" # the indentation HAS to be like that\n",
    "    with open(output_name,\"w\") as f:\n",
    "        f.write(header)\n",
    "        for domain in domain_list:\n",
    "            f.write(f\"$boost=3,site={domain}\\n\") # The boost=3 value was madeup with no reasoning"
   ]
  },
  {
   "cell_type": "code",
   "execution_count": 32,
   "metadata": {},
   "outputs": [],
   "source": [
    "# Worldwide\n",
    "generate_goggle(\"worldwide_university_domains.goggle\",worldwide_list,\"(Worldwide)\")"
   ]
  },
  {
   "cell_type": "code",
   "execution_count": 33,
   "metadata": {},
   "outputs": [],
   "source": [
    "# USA\n",
    "generate_goggle(\"usa_university_domains.goggle\",usa_list,\"(USA only)\")"
   ]
  }
 ],
 "metadata": {
  "kernelspec": {
   "display_name": "WorkingPython",
   "language": "python",
   "name": "python3"
  },
  "language_info": {
   "codemirror_mode": {
    "name": "ipython",
    "version": 3
   },
   "file_extension": ".py",
   "mimetype": "text/x-python",
   "name": "python",
   "nbconvert_exporter": "python",
   "pygments_lexer": "ipython3",
   "version": "3.12.3"
  }
 },
 "nbformat": 4,
 "nbformat_minor": 2
}
